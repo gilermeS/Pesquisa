{
 "cells": [
  {
   "cell_type": "code",
   "execution_count": 1,
   "metadata": {},
   "outputs": [],
   "source": [
    "from autokeras import StructuredDataRegressor\n",
    "\n",
    "# import pandas as pd\n",
    "import numpy as np"
   ]
  },
  {
   "cell_type": "code",
   "execution_count": 14,
   "metadata": {},
   "outputs": [],
   "source": [
    "h = 67.4 # +- 0.5 \n",
    "# pd.set_option('mode.chained_assignment', None)\n",
    "\n",
    "n_sims = 10000\n",
    "n_list = [i for i in range(n_sims)]\n",
    "\n",
    "\n",
    "h0s = []\n",
    "results = []\n",
    "\n",
    "\n",
    "start = 0\n",
    "end = 101\n",
    "\n",
    "x = []\n",
    "y =[]\n",
    "\n",
    "\n",
    "for i in n_list[start:end]:\n",
    "\t\n",
    "\tdata = np.load(f'../input/data_{i+1}.npy')\n",
    "\tx.append(data[:, :2])\n",
    "\ty.append(data[:, 2:][0])\n",
    "\n",
    "\n",
    "# for i in n_list[start:end]:\n",
    "\t\n",
    "# \tdata = np.load(f'../input/data_{i+1}.npy')\n",
    "# \tx.append(data[:, 1])\n",
    "# \ty.append(data[:, 2][0])\n",
    "\n",
    "\n",
    "x = np.array(x)\n",
    "# x[:,:,0] /= x[:,:,0].max()\n",
    "\n",
    "\n",
    "y = np.array(y)\n",
    "\n",
    "\n",
    "\n"
   ]
  },
  {
   "cell_type": "code",
   "execution_count": 21,
   "metadata": {},
   "outputs": [
    {
     "data": {
      "text/plain": [
       "(101, 80, 2)"
      ]
     },
     "execution_count": 21,
     "metadata": {},
     "output_type": "execute_result"
    }
   ],
   "source": [
    "x.shape"
   ]
  },
  {
   "cell_type": "code",
   "execution_count": 17,
   "metadata": {},
   "outputs": [],
   "source": [
    "\n",
    "# defining the model\n",
    "\n",
    "model = StructuredDataRegressor(max_trials=15, loss='mean_squared_error')\n",
    "\n"
   ]
  },
  {
   "cell_type": "code",
   "execution_count": 20,
   "metadata": {},
   "outputs": [
    {
     "ename": "ValueError",
     "evalue": "Expect the data to StructuredDataInput to have shape (batch_size, num_features), but got input shape [32, 80, 2].",
     "output_type": "error",
     "traceback": [
      "\u001b[1;31m---------------------------------------------------------------------------\u001b[0m",
      "\u001b[1;31mValueError\u001b[0m                                Traceback (most recent call last)",
      "Cell \u001b[1;32mIn[20], line 3\u001b[0m\n\u001b[0;32m      1\u001b[0m np\u001b[38;5;241m.\u001b[39mobject \u001b[38;5;241m=\u001b[39m \u001b[38;5;28mobject\u001b[39m\n\u001b[1;32m----> 3\u001b[0m \u001b[43mmodel\u001b[49m\u001b[38;5;241;43m.\u001b[39;49m\u001b[43mfit\u001b[49m\u001b[43m(\u001b[49m\u001b[43mx\u001b[49m\u001b[38;5;241;43m=\u001b[39;49m\u001b[43mx\u001b[49m\u001b[43m,\u001b[49m\u001b[43my\u001b[49m\u001b[38;5;241;43m=\u001b[39;49m\u001b[43my\u001b[49m\u001b[43m)\u001b[49m\n",
      "File \u001b[1;32mc:\\Users\\Guilherme\\miniconda3\\envs\\autok\\lib\\site-packages\\autokeras\\tasks\\structured_data.py:139\u001b[0m, in \u001b[0;36mBaseStructuredDataPipeline.fit\u001b[1;34m(self, x, y, epochs, callbacks, validation_split, validation_data, **kwargs)\u001b[0m\n\u001b[0;32m    135\u001b[0m         validation_data \u001b[38;5;241m=\u001b[39m \u001b[38;5;28mself\u001b[39m\u001b[38;5;241m.\u001b[39m_read_from_csv(x_val, y_val)\n\u001b[0;32m    137\u001b[0m \u001b[38;5;28mself\u001b[39m\u001b[38;5;241m.\u001b[39mcheck_in_fit(x)\n\u001b[1;32m--> 139\u001b[0m history \u001b[38;5;241m=\u001b[39m \u001b[38;5;28msuper\u001b[39m()\u001b[38;5;241m.\u001b[39mfit(\n\u001b[0;32m    140\u001b[0m     x\u001b[38;5;241m=\u001b[39mx,\n\u001b[0;32m    141\u001b[0m     y\u001b[38;5;241m=\u001b[39my,\n\u001b[0;32m    142\u001b[0m     epochs\u001b[38;5;241m=\u001b[39mepochs,\n\u001b[0;32m    143\u001b[0m     callbacks\u001b[38;5;241m=\u001b[39mcallbacks,\n\u001b[0;32m    144\u001b[0m     validation_split\u001b[38;5;241m=\u001b[39mvalidation_split,\n\u001b[0;32m    145\u001b[0m     validation_data\u001b[38;5;241m=\u001b[39mvalidation_data,\n\u001b[0;32m    146\u001b[0m     \u001b[38;5;241m*\u001b[39m\u001b[38;5;241m*\u001b[39mkwargs\n\u001b[0;32m    147\u001b[0m )\n\u001b[0;32m    148\u001b[0m \u001b[38;5;28;01mreturn\u001b[39;00m history\n",
      "File \u001b[1;32mc:\\Users\\Guilherme\\miniconda3\\envs\\autok\\lib\\site-packages\\autokeras\\auto_model.py:283\u001b[0m, in \u001b[0;36mAutoModel.fit\u001b[1;34m(self, x, y, batch_size, epochs, callbacks, validation_split, validation_data, verbose, **kwargs)\u001b[0m\n\u001b[0;32m    278\u001b[0m     validation_split \u001b[38;5;241m=\u001b[39m \u001b[38;5;241m0\u001b[39m\n\u001b[0;32m    280\u001b[0m dataset, validation_data \u001b[38;5;241m=\u001b[39m \u001b[38;5;28mself\u001b[39m\u001b[38;5;241m.\u001b[39m_convert_to_dataset(\n\u001b[0;32m    281\u001b[0m     x\u001b[38;5;241m=\u001b[39mx, y\u001b[38;5;241m=\u001b[39my, validation_data\u001b[38;5;241m=\u001b[39mvalidation_data, batch_size\u001b[38;5;241m=\u001b[39mbatch_size\n\u001b[0;32m    282\u001b[0m )\n\u001b[1;32m--> 283\u001b[0m \u001b[38;5;28;43mself\u001b[39;49m\u001b[38;5;241;43m.\u001b[39;49m\u001b[43m_analyze_data\u001b[49m\u001b[43m(\u001b[49m\u001b[43mdataset\u001b[49m\u001b[43m)\u001b[49m\n\u001b[0;32m    284\u001b[0m \u001b[38;5;28mself\u001b[39m\u001b[38;5;241m.\u001b[39m_build_hyper_pipeline(dataset)\n\u001b[0;32m    286\u001b[0m \u001b[38;5;66;03m# Split the data with validation_split.\u001b[39;00m\n",
      "File \u001b[1;32mc:\\Users\\Guilherme\\miniconda3\\envs\\autok\\lib\\site-packages\\autokeras\\auto_model.py:376\u001b[0m, in \u001b[0;36mAutoModel._analyze_data\u001b[1;34m(self, dataset)\u001b[0m\n\u001b[0;32m    373\u001b[0m         analyser\u001b[38;5;241m.\u001b[39mupdate(item)\n\u001b[0;32m    375\u001b[0m \u001b[38;5;28;01mfor\u001b[39;00m analyser \u001b[38;5;129;01min\u001b[39;00m analysers:\n\u001b[1;32m--> 376\u001b[0m     \u001b[43manalyser\u001b[49m\u001b[38;5;241;43m.\u001b[39;49m\u001b[43mfinalize\u001b[49m\u001b[43m(\u001b[49m\u001b[43m)\u001b[49m\n\u001b[0;32m    378\u001b[0m \u001b[38;5;28;01mfor\u001b[39;00m hm, analyser \u001b[38;5;129;01min\u001b[39;00m \u001b[38;5;28mzip\u001b[39m(\u001b[38;5;28mself\u001b[39m\u001b[38;5;241m.\u001b[39minputs \u001b[38;5;241m+\u001b[39m \u001b[38;5;28mself\u001b[39m\u001b[38;5;241m.\u001b[39m_heads, analysers):\n\u001b[0;32m    379\u001b[0m     hm\u001b[38;5;241m.\u001b[39mconfig_from_analyser(analyser)\n",
      "File \u001b[1;32mc:\\Users\\Guilherme\\miniconda3\\envs\\autok\\lib\\site-packages\\autokeras\\analysers\\input_analysers.py:103\u001b[0m, in \u001b[0;36mStructuredDataAnalyser.finalize\u001b[1;34m(self)\u001b[0m\n\u001b[0;32m    102\u001b[0m \u001b[38;5;28;01mdef\u001b[39;00m \u001b[38;5;21mfinalize\u001b[39m(\u001b[38;5;28mself\u001b[39m):\n\u001b[1;32m--> 103\u001b[0m     \u001b[38;5;28;43mself\u001b[39;49m\u001b[38;5;241;43m.\u001b[39;49m\u001b[43mcheck\u001b[49m\u001b[43m(\u001b[49m\u001b[43m)\u001b[49m\n\u001b[0;32m    104\u001b[0m     \u001b[38;5;28mself\u001b[39m\u001b[38;5;241m.\u001b[39minfer_column_types()\n",
      "File \u001b[1;32mc:\\Users\\Guilherme\\miniconda3\\envs\\autok\\lib\\site-packages\\autokeras\\analysers\\input_analysers.py:111\u001b[0m, in \u001b[0;36mStructuredDataAnalyser.check\u001b[1;34m(self)\u001b[0m\n\u001b[0;32m    109\u001b[0m \u001b[38;5;28;01mdef\u001b[39;00m \u001b[38;5;21mcheck\u001b[39m(\u001b[38;5;28mself\u001b[39m):\n\u001b[0;32m    110\u001b[0m     \u001b[38;5;28;01mif\u001b[39;00m \u001b[38;5;28mlen\u001b[39m(\u001b[38;5;28mself\u001b[39m\u001b[38;5;241m.\u001b[39mshape) \u001b[38;5;241m!=\u001b[39m \u001b[38;5;241m2\u001b[39m:\n\u001b[1;32m--> 111\u001b[0m         \u001b[38;5;28;01mraise\u001b[39;00m \u001b[38;5;167;01mValueError\u001b[39;00m(\n\u001b[0;32m    112\u001b[0m             \u001b[38;5;124m\"\u001b[39m\u001b[38;5;124mExpect the data to \u001b[39m\u001b[38;5;132;01m{input_name}\u001b[39;00m\u001b[38;5;124m to have shape \u001b[39m\u001b[38;5;124m\"\u001b[39m\n\u001b[0;32m    113\u001b[0m             \u001b[38;5;124m\"\u001b[39m\u001b[38;5;124m(batch_size, num_features), but \u001b[39m\u001b[38;5;124m\"\u001b[39m\n\u001b[0;32m    114\u001b[0m             \u001b[38;5;124m\"\u001b[39m\u001b[38;5;124mgot input shape \u001b[39m\u001b[38;5;132;01m{shape}\u001b[39;00m\u001b[38;5;124m.\u001b[39m\u001b[38;5;124m\"\u001b[39m\u001b[38;5;241m.\u001b[39mformat(\n\u001b[0;32m    115\u001b[0m                 input_name\u001b[38;5;241m=\u001b[39m\u001b[38;5;28mself\u001b[39m\u001b[38;5;241m.\u001b[39mget_input_name(), shape\u001b[38;5;241m=\u001b[39m\u001b[38;5;28mself\u001b[39m\u001b[38;5;241m.\u001b[39mshape\n\u001b[0;32m    116\u001b[0m             )\n\u001b[0;32m    117\u001b[0m         )\n\u001b[0;32m    119\u001b[0m     \u001b[38;5;66;03m# Fill in the column_names\u001b[39;00m\n\u001b[0;32m    120\u001b[0m     \u001b[38;5;28;01mif\u001b[39;00m \u001b[38;5;28mself\u001b[39m\u001b[38;5;241m.\u001b[39mcolumn_names \u001b[38;5;129;01mis\u001b[39;00m \u001b[38;5;28;01mNone\u001b[39;00m:\n",
      "\u001b[1;31mValueError\u001b[0m: Expect the data to StructuredDataInput to have shape (batch_size, num_features), but got input shape [32, 80, 2]."
     ]
    }
   ],
   "source": [
    "np.object = object\n",
    "\n",
    "model.fit(x=x,y=y)"
   ]
  },
  {
   "cell_type": "code",
   "execution_count": 62,
   "metadata": {},
   "outputs": [],
   "source": [
    "real = np.loadtxt('../input/real_data.txt', delimiter=',')\n",
    "real = real[real[:, 0].argsort()]\n",
    "\n",
    "real[:, 0] /= real[:, 0].max()"
   ]
  },
  {
   "cell_type": "code",
   "execution_count": 74,
   "metadata": {},
   "outputs": [],
   "source": [
    "real2 = real[:, 1]\n",
    "real2 = real2.reshape(-1, 31)"
   ]
  },
  {
   "cell_type": "code",
   "execution_count": null,
   "metadata": {},
   "outputs": [],
   "source": [
    "x"
   ]
  },
  {
   "cell_type": "code",
   "execution_count": null,
   "metadata": {},
   "outputs": [],
   "source": [
    "model.predict(np.zeros((1, 80)))"
   ]
  },
  {
   "cell_type": "code",
   "execution_count": null,
   "metadata": {},
   "outputs": [],
   "source": [
    "np.ze"
   ]
  }
 ],
 "metadata": {
  "kernelspec": {
   "display_name": "autok",
   "language": "python",
   "name": "python3"
  },
  "language_info": {
   "codemirror_mode": {
    "name": "ipython",
    "version": 3
   },
   "file_extension": ".py",
   "mimetype": "text/x-python",
   "name": "python",
   "nbconvert_exporter": "python",
   "pygments_lexer": "ipython3",
   "version": "3.10.8"
  }
 },
 "nbformat": 4,
 "nbformat_minor": 2
}
