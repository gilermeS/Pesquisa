{
 "cells": [
  {
   "cell_type": "code",
   "execution_count": 7,
   "id": "818c9ed9-ec36-4440-b9a3-9645024dc8b0",
   "metadata": {
    "tags": []
   },
   "outputs": [],
   "source": [
    "from tensorflow import keras\n",
    "\n",
    "from tensorflow.keras import models \n",
    "from tensorflow.keras import layers \n",
    "from sklearn.model_selection import train_test_split\n",
    "from sklearn.metrics import r2_score, mean_absolute_error, mean_squared_error, root_mean_squared_error\n",
    "\n",
    "import matplotlib.pyplot as plt \n",
    "import pandas as pd \n",
    "import numpy as np "
   ]
  },
  {
   "cell_type": "code",
   "execution_count": 39,
   "id": "f4689cf2-864e-4aa4-b6f1-86921645d861",
   "metadata": {
    "collapsed": true,
    "jupyter": {
     "outputs_hidden": true
    },
    "tags": []
   },
   "outputs": [
    {
     "name": "stdout",
     "output_type": "stream",
     "text": [
      "Status: 100.00 %\r"
     ]
    }
   ],
   "source": [
    "# Preparing the dataset and creating the features and target arrays\n",
    "\n",
    "\n",
    "pd.set_option('mode.chained_assignment', None)\n",
    "\n",
    "n_sims = 10000\n",
    "n_list = [i for i in range(n_sims)]\n",
    "\n",
    "\n",
    "h0s = []\n",
    "results = []\n",
    "\n",
    "\n",
    "start = 0\n",
    "end = 10000\n",
    "\n",
    "x = []\n",
    "y =[]\n",
    "\n",
    "for i in n_list[start:end]:\n",
    "\t\n",
    "\tdata = np.load(f'input/data_{i+1}.npy')\n",
    "\tx.append(data[:, :2])\n",
    "\ty.append(data[:, 2:][0][0])\n",
    "\tprint(f'Status: {((i+1)/end * 100):.2f} %', end='\\r')\n",
    "\n",
    "\n",
    "x = np.array(x)\n",
    "# x[:,:,0] /= x[:,:,0].max()\n",
    "\n",
    "\n",
    "y = np.array(y)\n",
    "\n",
    "norm = y.max()\n",
    "\n",
    "\n",
    "y /= norm\n",
    "\n",
    "\n",
    "x_train, x_test, y_train, y_test = train_test_split(x, y, test_size=.25)"
   ]
  },
  {
   "cell_type": "code",
   "execution_count": null,
   "id": "a6791775",
   "metadata": {},
   "outputs": [],
   "source": []
  },
  {
   "cell_type": "code",
   "execution_count": 68,
   "id": "6d262ed5",
   "metadata": {},
   "outputs": [
    {
     "name": "stdout",
     "output_type": "stream",
     "text": [
      "Epoch 1/25\n",
      "938/938 [==============================] - 4s 3ms/step - loss: 40.2809 - mean_absolute_error: 1.3172\n",
      "Epoch 2/25\n",
      "938/938 [==============================] - 3s 4ms/step - loss: 0.1536 - mean_absolute_error: 0.3153\n",
      "Epoch 3/25\n",
      "938/938 [==============================] - 4s 4ms/step - loss: 0.1331 - mean_absolute_error: 0.2917\n",
      "Epoch 4/25\n",
      "938/938 [==============================] - 4s 4ms/step - loss: 0.7381 - mean_absolute_error: 0.6226\n",
      "Epoch 5/25\n",
      "938/938 [==============================] - 4s 4ms/step - loss: 1.0910 - mean_absolute_error: 0.7291\n",
      "Epoch 6/25\n",
      "938/938 [==============================] - 4s 4ms/step - loss: 0.7302 - mean_absolute_error: 0.5641\n",
      "Epoch 7/25\n",
      "938/938 [==============================] - 4s 5ms/step - loss: 0.8768 - mean_absolute_error: 0.5504\n",
      "Epoch 8/25\n",
      "938/938 [==============================] - 3s 3ms/step - loss: 0.4354 - mean_absolute_error: 0.4366\n",
      "Epoch 9/25\n",
      "938/938 [==============================] - 4s 5ms/step - loss: 0.5707 - mean_absolute_error: 0.3793\n",
      "Epoch 10/25\n",
      "938/938 [==============================] - 5s 5ms/step - loss: 0.4237 - mean_absolute_error: 0.3364\n",
      "Epoch 11/25\n",
      "938/938 [==============================] - 6s 6ms/step - loss: 0.3437 - mean_absolute_error: 0.3344\n",
      "Epoch 12/25\n",
      "938/938 [==============================] - 6s 6ms/step - loss: 0.2971 - mean_absolute_error: 0.3336\n",
      "Epoch 13/25\n",
      "938/938 [==============================] - 5s 5ms/step - loss: 0.3999 - mean_absolute_error: 0.3540\n",
      "Epoch 14/25\n",
      "938/938 [==============================] - 5s 6ms/step - loss: 0.1459 - mean_absolute_error: 0.1637\n",
      "Epoch 15/25\n",
      "938/938 [==============================] - 4s 5ms/step - loss: 0.2432 - mean_absolute_error: 0.1428\n",
      "Epoch 16/25\n",
      "938/938 [==============================] - 4s 5ms/step - loss: 0.1919 - mean_absolute_error: 0.2077\n",
      "Epoch 17/25\n",
      "938/938 [==============================] - 4s 4ms/step - loss: 0.1251 - mean_absolute_error: 0.2049\n",
      "Epoch 18/25\n",
      "938/938 [==============================] - 5s 5ms/step - loss: 0.9657 - mean_absolute_error: 0.2805\n",
      "Epoch 19/25\n",
      "938/938 [==============================] - 4s 4ms/step - loss: 2.1524e-04 - mean_absolute_error: 0.0118\n",
      "Epoch 20/25\n",
      "938/938 [==============================] - 3s 4ms/step - loss: 1.5681e-04 - mean_absolute_error: 0.0099\n",
      "Epoch 21/25\n",
      "938/938 [==============================] - 3s 3ms/step - loss: 0.0470 - mean_absolute_error: 0.0867\n",
      "Epoch 22/25\n",
      "938/938 [==============================] - 4s 4ms/step - loss: 0.0811 - mean_absolute_error: 0.1320\n",
      "Epoch 23/25\n",
      "938/938 [==============================] - 4s 4ms/step - loss: 0.0363 - mean_absolute_error: 0.0705\n",
      "Epoch 24/25\n",
      "938/938 [==============================] - 3s 4ms/step - loss: 0.0210 - mean_absolute_error: 0.0400\n",
      "Epoch 25/25\n",
      "938/938 [==============================] - 3s 4ms/step - loss: 0.0244 - mean_absolute_error: 0.0897\n"
     ]
    },
    {
     "data": {
      "text/plain": [
       "<keras.callbacks.History at 0x27ddb00b400>"
      ]
     },
     "execution_count": 68,
     "metadata": {},
     "output_type": "execute_result"
    }
   ],
   "source": [
    "# defining the model\n",
    "\n",
    "model = models.Sequential()\n",
    "model.add(layers.Flatten())\n",
    "model.add(layers.Dense(16))\n",
    "model.add(layers.Dense(16))\n",
    "model.add(layers.Dense(1))\n",
    "model.compile(loss=keras.losses.MeanSquaredError(), optimizer='adam', metrics=keras.metrics.MeanAbsoluteError())\n",
    "\n",
    "\n",
    "model.fit(x_train, y_train, epochs=25, batch_size=8, verbose=1)"
   ]
  },
  {
   "cell_type": "markdown",
   "id": "6597dbd5",
   "metadata": {},
   "source": [
    "Dummy variables just for visualization purposes"
   ]
  },
  {
   "cell_type": "code",
   "execution_count": 69,
   "id": "1267f5fb",
   "metadata": {},
   "outputs": [
    {
     "name": "stdout",
     "output_type": "stream",
     "text": [
      "79/79 [==============================] - 0s 1ms/step\n"
     ]
    }
   ],
   "source": [
    "y_pred = model.predict(x_test)\n",
    "\n",
    "\n",
    "r2 = r2_score(y_test, y_pred)\n",
    "mse = mean_squared_error(y_test, y_pred)\n",
    "mae = mean_absolute_error(y_test, y_pred)\n",
    "rmse = root_mean_squared_error(y_test, y_pred)\n",
    "\n"
   ]
  },
  {
   "cell_type": "code",
   "execution_count": 70,
   "id": "0debc123",
   "metadata": {},
   "outputs": [
    {
     "data": {
      "image/png": "[encoded data removed]",
      "text/plain": [
       "<Figure size 640x480 with 1 Axes>"
      ]
     },
     "metadata": {},
     "output_type": "display_data"
    }
   ],
   "source": [
    "linha = np.linspace(64, 81)\n",
    "# linha = np.linspace(.31, .315, 2500)\n",
    "\n",
    "\n",
    "plt.scatter(y_pred*norm, y_test*norm, s=5, label=f'MAE = {mae:.3f}\\nR2 = {r2:.4f}\\nMSE = {mse:.3f}\\nRMSE = {rmse:.3f}')\n",
    "plt.plot(linha, linha, alpha=.5, c='red')\n",
    "\n",
    "plt.legend()\n",
    "plt.savefig(\"imagens/metrics_h0_dense\")\n",
    "plt.show()"
   ]
  },
  {
   "cell_type": "code",
   "execution_count": 71,
   "id": "2bde29e4",
   "metadata": {},
   "outputs": [],
   "source": [
    "# forecasting \"real\" H(0)\n",
    "\n",
    "real = np.load('input/data_real80.npy')\n",
    "real = real[real[:, 0].argsort()]\n",
    "\n",
    "real = real.reshape(-1,80,2)"
   ]
  },
  {
   "cell_type": "code",
   "execution_count": 72,
   "id": "2b5e161d",
   "metadata": {},
   "outputs": [],
   "source": [
    "\n",
    "final_real = model.predict(real, verbose=0)"
   ]
  },
  {
   "cell_type": "code",
   "execution_count": 73,
   "id": "0e021783",
   "metadata": {},
   "outputs": [
    {
     "data": {
      "text/plain": [
       "array([[67.81429]], dtype=float32)"
      ]
     },
     "execution_count": 73,
     "metadata": {},
     "output_type": "execute_result"
    }
   ],
   "source": [
    "final_real*norm"
   ]
  }
 ],
 "metadata": {
  "kernelspec": {
   "display_name": "deep",
   "language": "python",
   "name": "python3"
  },
  "language_info": {
   "codemirror_mode": {
    "name": "ipython",
    "version": 3
   },
   "file_extension": ".py",
   "mimetype": "text/x-python",
   "name": "python",
   "nbconvert_exporter": "python",
   "pygments_lexer": "ipython3",
   "version": "3.9.20"
  }
 },
 "nbformat": 4,
 "nbformat_minor": 5
}
