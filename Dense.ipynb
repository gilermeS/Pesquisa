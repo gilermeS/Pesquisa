{
 "cells": [
  {
   "cell_type": "code",
   "execution_count": 5,
   "id": "818c9ed9-ec36-4440-b9a3-9645024dc8b0",
   "metadata": {
    "tags": []
   },
   "outputs": [],
   "source": [
    "from tensorflow import keras\n",
    "\n",
    "from tensorflow.keras import models \n",
    "from tensorflow.keras import layers \n",
    "from sklearn.model_selection import train_test_split\n",
    "from sklearn.metrics import r2_score, mean_absolute_error, mean_squared_error, root_mean_squared_error\n",
    "\n",
    "import matplotlib.pyplot as plt \n",
    "import pandas as pd \n",
    "import numpy as np "
   ]
  },
  {
   "cell_type": "code",
   "execution_count": 2,
   "id": "f4689cf2-864e-4aa4-b6f1-86921645d861",
   "metadata": {
    "collapsed": true,
    "jupyter": {
     "outputs_hidden": true
    },
    "tags": []
   },
   "outputs": [
    {
     "name": "stdout",
     "output_type": "stream",
     "text": [
      "Status: 100.00 %\r"
     ]
    }
   ],
   "source": [
    "# Preparing the dataset and creating the features and target arrays\n",
    "\n",
    "\n",
    "pd.set_option('mode.chained_assignment', None)\n",
    "\n",
    "n_sims = 10000\n",
    "n_list = [i for i in range(n_sims)]\n",
    "\n",
    "\n",
    "h0s = []\n",
    "results = []\n",
    "\n",
    "\n",
    "start = 0\n",
    "end = 10000\n",
    "\n",
    "x = []\n",
    "y =[]\n",
    "\n",
    "for i in n_list[start:end]:\n",
    "\t\n",
    "\tdata = np.load(f'input/data_{i+1}.npy')\n",
    "\tx.append(data[:, :2])\n",
    "\ty.append(data[:, 2:][0][0])\n",
    "\tprint(f'Status: {((i+1)/end * 100):.2f} %', end='\\r')\n",
    "\n",
    "\n",
    "x = np.array(x)\n",
    "# x[:,:,0] /= x[:,:,0].max()\n",
    "\n",
    "y = np.array(y)\n",
    "\n",
    "\n",
    "x_train, x_test, y_train, y_test = train_test_split(x, y, test_size=.25)"
   ]
  },
  {
   "cell_type": "code",
   "execution_count": 3,
   "id": "6d262ed5",
   "metadata": {},
   "outputs": [
    {
     "name": "stdout",
     "output_type": "stream",
     "text": [
      "Epoch 1/25\n",
      "750/750 [==============================] - 3s 2ms/step - loss: 79.1086 - mean_absolute_error: 2.7008\n",
      "Epoch 2/25\n",
      "750/750 [==============================] - 1s 2ms/step - loss: 1.9727 - mean_absolute_error: 1.1416\n",
      "Epoch 3/25\n",
      "750/750 [==============================] - 1s 2ms/step - loss: 2.3519 - mean_absolute_error: 1.2346\n",
      "Epoch 4/25\n",
      "750/750 [==============================] - 1s 2ms/step - loss: 2.2519 - mean_absolute_error: 1.2124\n",
      "Epoch 5/25\n",
      "750/750 [==============================] - 1s 2ms/step - loss: 2.7129 - mean_absolute_error: 1.2967\n",
      "Epoch 6/25\n",
      "750/750 [==============================] - 1s 2ms/step - loss: 3.2192 - mean_absolute_error: 1.3779\n",
      "Epoch 7/25\n",
      "750/750 [==============================] - 1s 2ms/step - loss: 2.7466 - mean_absolute_error: 1.2576\n",
      "Epoch 8/25\n",
      "750/750 [==============================] - 2s 2ms/step - loss: 3.0021 - mean_absolute_error: 1.2446\n",
      "Epoch 9/25\n",
      "750/750 [==============================] - 1s 2ms/step - loss: 2.0291 - mean_absolute_error: 1.0584\n",
      "Epoch 10/25\n",
      "750/750 [==============================] - 1s 2ms/step - loss: 2.6428 - mean_absolute_error: 1.1258\n",
      "Epoch 11/25\n",
      "750/750 [==============================] - 1s 2ms/step - loss: 2.5192 - mean_absolute_error: 1.1098\n",
      "Epoch 12/25\n",
      "750/750 [==============================] - 2s 2ms/step - loss: 2.0886 - mean_absolute_error: 1.0167\n",
      "Epoch 13/25\n",
      "750/750 [==============================] - 2s 2ms/step - loss: 2.5523 - mean_absolute_error: 0.9956\n",
      "Epoch 14/25\n",
      "750/750 [==============================] - 2s 2ms/step - loss: 2.5190 - mean_absolute_error: 0.8462\n",
      "Epoch 15/25\n",
      "750/750 [==============================] - 2s 2ms/step - loss: 1.9043 - mean_absolute_error: 0.7906\n",
      "Epoch 16/25\n",
      "750/750 [==============================] - 2s 2ms/step - loss: 2.5260 - mean_absolute_error: 0.9170\n",
      "Epoch 17/25\n",
      "750/750 [==============================] - 2s 2ms/step - loss: 2.2533 - mean_absolute_error: 1.0239\n",
      "Epoch 18/25\n",
      "750/750 [==============================] - 2s 3ms/step - loss: 1.7270 - mean_absolute_error: 0.9080\n",
      "Epoch 19/25\n",
      "750/750 [==============================] - 2s 3ms/step - loss: 1.9322 - mean_absolute_error: 0.9762\n",
      "Epoch 20/25\n",
      "750/750 [==============================] - 2s 3ms/step - loss: 1.9723 - mean_absolute_error: 0.9769\n",
      "Epoch 21/25\n",
      "750/750 [==============================] - 2s 2ms/step - loss: 2.2780 - mean_absolute_error: 1.0179\n",
      "Epoch 22/25\n",
      "750/750 [==============================] - 2s 3ms/step - loss: 1.5856 - mean_absolute_error: 0.8980\n",
      "Epoch 23/25\n",
      "750/750 [==============================] - 2s 3ms/step - loss: 2.9768 - mean_absolute_error: 0.7933\n",
      "Epoch 24/25\n",
      "750/750 [==============================] - 2s 3ms/step - loss: 1.5499 - mean_absolute_error: 0.6359\n",
      "Epoch 25/25\n",
      "750/750 [==============================] - 2s 2ms/step - loss: 1.8062 - mean_absolute_error: 0.4394\n"
     ]
    },
    {
     "data": {
      "text/plain": [
       "<keras.callbacks.History at 0x1e95f86ce20>"
      ]
     },
     "execution_count": 3,
     "metadata": {},
     "output_type": "execute_result"
    }
   ],
   "source": [
    "# defining the model\n",
    "\n",
    "model = models.Sequential()\n",
    "model.add(layers.Flatten())\n",
    "model.add(layers.Dense(16))\n",
    "model.add(layers.Dense(1))\n",
    "model.compile(loss=keras.losses.MeanSquaredError(), optimizer='adam', metrics=keras.metrics.MeanAbsoluteError())\n",
    "\n",
    "\n",
    "model.fit(x_train, y_train, epochs=25, batch_size=10, verbose=1)"
   ]
  },
  {
   "cell_type": "markdown",
   "id": "6597dbd5",
   "metadata": {},
   "source": [
    "Dummy variables just for visualization purposes"
   ]
  },
  {
   "cell_type": "code",
   "execution_count": 6,
   "id": "1267f5fb",
   "metadata": {},
   "outputs": [
    {
     "name": "stdout",
     "output_type": "stream",
     "text": [
      "79/79 [==============================] - 0s 1ms/step\n"
     ]
    }
   ],
   "source": [
    "y_pred = model.predict(x_test)\n",
    "\n",
    "\n",
    "r2 = r2_score(y_test, y_pred)\n",
    "mse = mean_squared_error(y_test, y_pred)\n",
    "mae = mean_absolute_error(y_test, y_pred)\n",
    "rmse = root_mean_squared_error(y_test, y_pred)\n",
    "\n"
   ]
  },
  {
   "cell_type": "code",
   "execution_count": 18,
   "id": "0debc123",
   "metadata": {},
   "outputs": [
    {
     "data": {
      "image/png": "[encoded data removed]",
      "text/plain": [
       "<Figure size 640x480 with 1 Axes>"
      ]
     },
     "metadata": {},
     "output_type": "display_data"
    }
   ],
   "source": [
    "linha = np.linspace(64, 81)\n",
    "\n",
    "\n",
    "plt.scatter(y_pred, y_test, s=5, label=f'MAE = {mae:.3f}\\nR2 = {r2:.4f}\\nMSE = {mse:.3f}\\nRMSE = {rmse:.3f}')\n",
    "plt.plot(linha, linha, alpha=.5, c='red')\n",
    "\n",
    "plt.legend()\n",
    "plt.savefig(\"imagens/metrics_h0_dense\")\n",
    "plt.show()"
   ]
  },
  {
   "cell_type": "code",
   "execution_count": 19,
   "id": "2bde29e4",
   "metadata": {},
   "outputs": [],
   "source": [
    "# forecasting \"real\" H(0)\n",
    "\n",
    "real = np.load('input/data_real80.npy')\n",
    "real = real[real[:, 0].argsort()]\n",
    "\n",
    "real = real.reshape(-1,80,2)"
   ]
  },
  {
   "cell_type": "code",
   "execution_count": 20,
   "id": "2b5e161d",
   "metadata": {},
   "outputs": [],
   "source": [
    "\n",
    "final_real = model.predict(real, verbose=0)"
   ]
  },
  {
   "cell_type": "code",
   "execution_count": 21,
   "id": "0e021783",
   "metadata": {},
   "outputs": [
    {
     "data": {
      "text/plain": [
       "array([[67.36905]], dtype=float32)"
      ]
     },
     "execution_count": 21,
     "metadata": {},
     "output_type": "execute_result"
    }
   ],
   "source": [
    "final_real"
   ]
  }
 ],
 "metadata": {
  "kernelspec": {
   "display_name": "deep",
   "language": "python",
   "name": "python3"
  },
  "language_info": {
   "codemirror_mode": {
    "name": "ipython",
    "version": 3
   },
   "file_extension": ".py",
   "mimetype": "text/x-python",
   "name": "python",
   "nbconvert_exporter": "python",
   "pygments_lexer": "ipython3",
   "version": "3.9.20"
  }
 },
 "nbformat": 4,
 "nbformat_minor": 5
}
