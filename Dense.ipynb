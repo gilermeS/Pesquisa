{
 "cells": [
  {
   "cell_type": "code",
   "execution_count": 7,
   "id": "818c9ed9-ec36-4440-b9a3-9645024dc8b0",
   "metadata": {
    "tags": []
   },
   "outputs": [],
   "source": [
    "from tensorflow import keras\n",
    "\n",
    "from tensorflow.keras import models, layers\n",
    " \n",
    "from sklearn.model_selection import train_test_split\n",
    "from sklearn.metrics import r2_score, mean_absolute_error, mean_squared_error, root_mean_squared_error\n",
    "\n",
    "import matplotlib.pyplot as plt \n",
    "import pandas as pd \n",
    "import numpy as np "
   ]
  },
  {
   "cell_type": "code",
   "execution_count": 8,
   "id": "f4689cf2-864e-4aa4-b6f1-86921645d861",
   "metadata": {
    "collapsed": true,
    "jupyter": {
     "outputs_hidden": true
    },
    "tags": []
   },
   "outputs": [
    {
     "name": "stdout",
     "output_type": "stream",
     "text": [
      "Status: 100.00 %\r"
     ]
    }
   ],
   "source": [
    "# Preparing the dataset and creating the features and target arrays\n",
    "\n",
    "\n",
    "pd.set_option('mode.chained_assignment', None)\n",
    "\n",
    "n_sims = 10000\n",
    "n_list = [i for i in range(n_sims)]\n",
    "\n",
    "\n",
    "h0s = []\n",
    "results = []\n",
    "\n",
    "\n",
    "start = 0\n",
    "end = 10000\n",
    "\n",
    "x = []\n",
    "y =[]\n",
    "\n",
    "for i in n_list[start:end]:\n",
    "\t\n",
    "\tdata = np.load(f'input/data_{i+1}.npy')\n",
    "\tx.append(data[:, :2])\n",
    "\ty.append(data[:, 2:][0][0])\n",
    "\tprint(f'Status: {((i+1)/end * 100):.2f} %', end='\\r')\n",
    "\n",
    "\n",
    "x = np.array(x)\n",
    "# x[:,:,0] /= x[:,:,0].max()\n",
    "\n",
    "\n",
    "y = np.array(y)\n",
    "\n",
    "norm = y.max()\n",
    "\n",
    "\n",
    "y /= norm\n",
    "\n",
    "\n",
    "x_train, x_test, y_train, y_test = train_test_split(x, y, test_size=.25)"
   ]
  },
  {
   "cell_type": "code",
   "execution_count": 67,
   "id": "6d262ed5",
   "metadata": {},
   "outputs": [
    {
     "name": "stdout",
     "output_type": "stream",
     "text": [
      "Epoch 1/25\n",
      "938/938 [==============================] - 3s 3ms/step - loss: 889.7810 - mean_absolute_error: 10.0020\n",
      "Epoch 2/25\n",
      "938/938 [==============================] - 3s 3ms/step - loss: 0.7941 - mean_absolute_error: 0.6810\n",
      "Epoch 3/25\n",
      "938/938 [==============================] - 3s 3ms/step - loss: 0.3287 - mean_absolute_error: 0.4603\n",
      "Epoch 4/25\n",
      "938/938 [==============================] - 3s 3ms/step - loss: 0.2958 - mean_absolute_error: 0.4366\n",
      "Epoch 5/25\n",
      "938/938 [==============================] - 3s 3ms/step - loss: 0.2851 - mean_absolute_error: 0.4272\n",
      "Epoch 6/25\n",
      "938/938 [==============================] - 3s 3ms/step - loss: 0.3889 - mean_absolute_error: 0.4907\n",
      "Epoch 7/25\n",
      "938/938 [==============================] - 3s 3ms/step - loss: 0.4650 - mean_absolute_error: 0.5374\n",
      "Epoch 8/25\n",
      "938/938 [==============================] - 3s 3ms/step - loss: 1.4317 - mean_absolute_error: 0.7244\n",
      "Epoch 9/25\n",
      "938/938 [==============================] - 3s 3ms/step - loss: 0.4603 - mean_absolute_error: 0.4981\n",
      "Epoch 10/25\n",
      "938/938 [==============================] - 3s 4ms/step - loss: 0.5830 - mean_absolute_error: 0.5660\n",
      "Epoch 11/25\n",
      "938/938 [==============================] - 4s 4ms/step - loss: 0.3383 - mean_absolute_error: 0.4257\n",
      "Epoch 12/25\n",
      "938/938 [==============================] - 3s 4ms/step - loss: 0.2355 - mean_absolute_error: 0.3513\n",
      "Epoch 13/25\n",
      "938/938 [==============================] - 3s 4ms/step - loss: 0.0778 - mean_absolute_error: 0.2190\n",
      "Epoch 14/25\n",
      "938/938 [==============================] - 3s 4ms/step - loss: 0.0853 - mean_absolute_error: 0.2178\n",
      "Epoch 15/25\n",
      "938/938 [==============================] - 4s 4ms/step - loss: 0.0266 - mean_absolute_error: 0.1270\n",
      "Epoch 16/25\n",
      "938/938 [==============================] - 3s 4ms/step - loss: 0.0174 - mean_absolute_error: 0.1017\n",
      "Epoch 17/25\n",
      "938/938 [==============================] - 4s 4ms/step - loss: 0.0050 - mean_absolute_error: 0.0553\n",
      "Epoch 18/25\n",
      "938/938 [==============================] - 4s 4ms/step - loss: 0.0030 - mean_absolute_error: 0.0436\n",
      "Epoch 19/25\n",
      "938/938 [==============================] - 4s 4ms/step - loss: 0.0020 - mean_absolute_error: 0.0357\n",
      "Epoch 20/25\n",
      "938/938 [==============================] - 3s 3ms/step - loss: 0.0019 - mean_absolute_error: 0.0356\n",
      "Epoch 21/25\n",
      "938/938 [==============================] - 3s 3ms/step - loss: 0.0021 - mean_absolute_error: 0.0373\n",
      "Epoch 22/25\n",
      "938/938 [==============================] - 3s 3ms/step - loss: 0.0020 - mean_absolute_error: 0.0362\n",
      "Epoch 23/25\n",
      "938/938 [==============================] - 3s 3ms/step - loss: 0.2514 - mean_absolute_error: 0.1235\n",
      "Epoch 24/25\n",
      "938/938 [==============================] - 3s 3ms/step - loss: 7.0518e-04 - mean_absolute_error: 0.0212\n",
      "Epoch 25/25\n",
      "938/938 [==============================] - 3s 3ms/step - loss: 2.1526e-04 - mean_absolute_error: 0.0113\n"
     ]
    },
    {
     "data": {
      "text/plain": [
       "<keras.callbacks.History at 0x111a7aeebb0>"
      ]
     },
     "execution_count": 67,
     "metadata": {},
     "output_type": "execute_result"
    }
   ],
   "source": [
    "# defining the model\n",
    "\n",
    "model = models.Sequential()\n",
    "\n",
    "model.add(layers.Flatten())\n",
    "model.add(layers.Dense(16))\n",
    "\n",
    "model.add(layers.Dense(16))\n",
    "model.add(layers.Dense(1))\n",
    "model.compile(loss=keras.losses.MeanSquaredError(), optimizer='adam', metrics=keras.metrics.MeanAbsoluteError())\n",
    "\n",
    "\n",
    "model.fit(x_train, y_train, epochs=25, batch_size=8, verbose=1)"
   ]
  },
  {
   "cell_type": "code",
   "execution_count": 68,
   "id": "1267f5fb",
   "metadata": {},
   "outputs": [
    {
     "name": "stdout",
     "output_type": "stream",
     "text": [
      "79/79 [==============================] - 0s 1ms/step\n"
     ]
    }
   ],
   "source": [
    "y_pred = model.predict(x_test)\n",
    "\n",
    "\n",
    "r2 = r2_score(y_test, y_pred)\n",
    "mse = mean_squared_error(y_test, y_pred)\n",
    "mae = mean_absolute_error(y_test, y_pred)\n",
    "rmse = root_mean_squared_error(y_test, y_pred)\n",
    "\n"
   ]
  },
  {
   "cell_type": "code",
   "execution_count": 69,
   "id": "0debc123",
   "metadata": {},
   "outputs": [
    {
     "data": {
      "image/png": "[encoded data removed]",
      "text/plain": [
       "<Figure size 640x480 with 1 Axes>"
      ]
     },
     "metadata": {},
     "output_type": "display_data"
    }
   ],
   "source": [
    "plt.style.use('seaborn-v0_8-muted')\n",
    "\n",
    "linha = np.linspace(64, 81)\n",
    "# linha = np.linspace(.31, .315, 2500)\n",
    "\n",
    "\n",
    "plt.scatter(y_pred*norm, y_test*norm, s=5, alpha=.6, label=f'MAE = {mae:.3f}\\nR2 = {r2:.4f}\\nMSE = {mse:.3f}\\nRMSE = {rmse:.3f}')\n",
    "plt.plot(linha, linha, alpha=.5, c='red', ls='--')\n",
    "\n",
    "plt.legend()\n",
    "plt.savefig(\"imagens/metrics_h0_dense\")\n",
    "plt.show()"
   ]
  },
  {
   "cell_type": "code",
   "execution_count": 70,
   "id": "2bde29e4",
   "metadata": {},
   "outputs": [],
   "source": [
    "# forecasting \"real\" H(0)\n",
    "\n",
    "real = np.load('input/data_real80.npy')\n",
    "real = real[real[:, 0].argsort()]\n",
    "\n",
    "real = real.reshape(-1,80,2)"
   ]
  },
  {
   "cell_type": "code",
   "execution_count": 71,
   "id": "2b5e161d",
   "metadata": {},
   "outputs": [],
   "source": [
    "\n",
    "final_real = model.predict(real, verbose=0)"
   ]
  },
  {
   "cell_type": "code",
   "execution_count": 72,
   "id": "0e021783",
   "metadata": {},
   "outputs": [
    {
     "data": {
      "text/plain": [
       "array([[67.69018]], dtype=float32)"
      ]
     },
     "execution_count": 72,
     "metadata": {},
     "output_type": "execute_result"
    }
   ],
   "source": [
    "final_real*norm"
   ]
  },
  {
   "cell_type": "code",
   "execution_count": 73,
   "id": "6643ca2e",
   "metadata": {},
   "outputs": [
    {
     "data": {
      "image/png": "[encoded data removed]",
      "text/plain": [
       "<IPython.core.display.Image object>"
      ]
     },
     "execution_count": 73,
     "metadata": {},
     "output_type": "execute_result"
    }
   ],
   "source": [
    "keras.utils.plot_model(model, to_file='imagens/model_dense.png', show_shapes=False, show_layer_names=False)\n"
   ]
  }
 ],
 "metadata": {
  "kernelspec": {
   "display_name": "deep",
   "language": "python",
   "name": "python3"
  },
  "language_info": {
   "codemirror_mode": {
    "name": "ipython",
    "version": 3
   },
   "file_extension": ".py",
   "mimetype": "text/x-python",
   "name": "python",
   "nbconvert_exporter": "python",
   "pygments_lexer": "ipython3",
   "version": "3.9.20"
  }
 },
 "nbformat": 4,
 "nbformat_minor": 5
}
