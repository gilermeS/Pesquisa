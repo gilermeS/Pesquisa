{
 "cells": [
  {
   "cell_type": "code",
   "execution_count": null,
   "id": "818c9ed9-ec36-4440-b9a3-9645024dc8b0",
   "metadata": {
    "tags": []
   },
   "outputs": [],
   "source": [
    "from tensorflow import keras\n",
    "\n",
    "from tensorflow.keras import models, layers\n",
    " \n",
    "from sklearn.model_selection import train_test_split\n",
    "from sklearn.metrics import r2_score, mean_absolute_error, mean_squared_error, root_mean_squared_error\n",
    "\n",
    "import matplotlib.pyplot as plt \n",
    "import pandas as pd \n",
    "import numpy as np "
   ]
  },
  {
   "cell_type": "code",
   "execution_count": 3,
   "id": "f4689cf2-864e-4aa4-b6f1-86921645d861",
   "metadata": {
    "collapsed": true,
    "jupyter": {
     "outputs_hidden": true
    },
    "tags": []
   },
   "outputs": [
    {
     "name": "stdout",
     "output_type": "stream",
     "text": [
      "Status: 100.00 %\r"
     ]
    }
   ],
   "source": [
    "# Preparing the dataset and creating the features and target arrays\n",
    "\n",
    "\n",
    "pd.set_option('mode.chained_assignment', None)\n",
    "\n",
    "n_sims = 10000\n",
    "n_list = [i for i in range(n_sims)]\n",
    "\n",
    "\n",
    "h0s = []\n",
    "results = []\n",
    "\n",
    "\n",
    "start = 0\n",
    "end = 10000\n",
    "\n",
    "x = []\n",
    "y =[]\n",
    "\n",
    "for i in n_list[start:end]:\n",
    "\t\n",
    "\tdata = np.load(f'input/data_{i+1}.npy')\n",
    "\tx.append(data[:, :2])\n",
    "\ty.append(data[:, 2:][0][0])\n",
    "\tprint(f'Status: {((i+1)/end * 100):.2f} %', end='\\r')\n",
    "\n",
    "\n",
    "x = np.array(x)\n",
    "# x[:,:,0] /= x[:,:,0].max()\n",
    "\n",
    "\n",
    "y = np.array(y)\n",
    "\n",
    "norm = y.max()\n",
    "\n",
    "\n",
    "y /= norm\n",
    "\n",
    "\n",
    "x_train, x_test, y_train, y_test = train_test_split(x, y, test_size=.25)"
   ]
  },
  {
   "cell_type": "code",
   "execution_count": null,
   "id": "a6791775",
   "metadata": {},
   "outputs": [],
   "source": []
  },
  {
   "cell_type": "code",
   "execution_count": 18,
   "id": "6d262ed5",
   "metadata": {},
   "outputs": [
    {
     "name": "stdout",
     "output_type": "stream",
     "text": [
      "Epoch 1/25\n",
      "938/938 [==============================] - 3s 3ms/step - loss: 10.1861 - mean_absolute_error: 0.6921\n",
      "Epoch 2/25\n",
      "938/938 [==============================] - 3s 3ms/step - loss: 0.0492 - mean_absolute_error: 0.1793\n",
      "Epoch 3/25\n",
      "938/938 [==============================] - 3s 3ms/step - loss: 0.0650 - mean_absolute_error: 0.2024\n",
      "Epoch 4/25\n",
      "938/938 [==============================] - 3s 3ms/step - loss: 0.4091 - mean_absolute_error: 0.4360\n",
      "Epoch 5/25\n",
      "938/938 [==============================] - 3s 3ms/step - loss: 0.3300 - mean_absolute_error: 0.3916\n",
      "Epoch 6/25\n",
      "938/938 [==============================] - 3s 3ms/step - loss: 0.3551 - mean_absolute_error: 0.2593\n",
      "Epoch 7/25\n",
      "938/938 [==============================] - 2s 3ms/step - loss: 0.1571 - mean_absolute_error: 0.2703\n",
      "Epoch 8/25\n",
      "938/938 [==============================] - 2s 3ms/step - loss: 0.1587 - mean_absolute_error: 0.2846\n",
      "Epoch 9/25\n",
      "938/938 [==============================] - 3s 3ms/step - loss: 0.1031 - mean_absolute_error: 0.2209\n",
      "Epoch 10/25\n",
      "938/938 [==============================] - 3s 3ms/step - loss: 0.0960 - mean_absolute_error: 0.2189\n",
      "Epoch 11/25\n",
      "938/938 [==============================] - 3s 3ms/step - loss: 0.0512 - mean_absolute_error: 0.1492\n",
      "Epoch 12/25\n",
      "938/938 [==============================] - 3s 3ms/step - loss: 0.0489 - mean_absolute_error: 0.1466\n",
      "Epoch 13/25\n",
      "938/938 [==============================] - 2s 3ms/step - loss: 0.0443 - mean_absolute_error: 0.1121\n",
      "Epoch 14/25\n",
      "938/938 [==============================] - 3s 3ms/step - loss: 0.0248 - mean_absolute_error: 0.0806\n",
      "Epoch 15/25\n",
      "938/938 [==============================] - 3s 3ms/step - loss: 0.0580 - mean_absolute_error: 0.1055\n",
      "Epoch 16/25\n",
      "938/938 [==============================] - 3s 3ms/step - loss: 1.6725e-04 - mean_absolute_error: 0.0080\n",
      "Epoch 17/25\n",
      "938/938 [==============================] - 3s 3ms/step - loss: 0.0176 - mean_absolute_error: 0.0547\n",
      "Epoch 18/25\n",
      "938/938 [==============================] - 3s 3ms/step - loss: 0.0124 - mean_absolute_error: 0.0374\n",
      "Epoch 19/25\n",
      "938/938 [==============================] - 3s 3ms/step - loss: 0.2582 - mean_absolute_error: 0.0687\n",
      "Epoch 20/25\n",
      "938/938 [==============================] - 3s 3ms/step - loss: 0.0764 - mean_absolute_error: 0.0542\n",
      "Epoch 21/25\n",
      "938/938 [==============================] - 3s 3ms/step - loss: 2.0157e-05 - mean_absolute_error: 0.0036\n",
      "Epoch 22/25\n",
      "938/938 [==============================] - 3s 3ms/step - loss: 8.0401e-06 - mean_absolute_error: 0.0023\n",
      "Epoch 23/25\n",
      "938/938 [==============================] - 3s 3ms/step - loss: 5.1003e-06 - mean_absolute_error: 0.0018\n",
      "Epoch 24/25\n",
      "938/938 [==============================] - 3s 3ms/step - loss: 3.0403e-06 - mean_absolute_error: 0.0014\n",
      "Epoch 25/25\n",
      "938/938 [==============================] - 3s 3ms/step - loss: 1.5679e-06 - mean_absolute_error: 9.8566e-04\n"
     ]
    },
    {
     "data": {
      "text/plain": [
       "<keras.callbacks.History at 0x2288c98f310>"
      ]
     },
     "execution_count": 18,
     "metadata": {},
     "output_type": "execute_result"
    }
   ],
   "source": [
    "# defining the model\n",
    "\n",
    "model = models.Sequential()\n",
    "model.add(layers.Flatten())\n",
    "model.add(layers.Dense(16))\n",
    "model.add(layers.Dense(16))\n",
    "model.add(layers.Dense(1))\n",
    "model.compile(loss=keras.losses.MeanSquaredError(), optimizer='adam', metrics=keras.metrics.MeanAbsoluteError())\n",
    "\n",
    "\n",
    "model.fit(x_train, y_train, epochs=25, batch_size=8, verbose=1)"
   ]
  },
  {
   "cell_type": "markdown",
   "id": "6597dbd5",
   "metadata": {},
   "source": [
    "Dummy variables just for visualization purposes"
   ]
  },
  {
   "cell_type": "code",
   "execution_count": 19,
   "id": "1267f5fb",
   "metadata": {},
   "outputs": [
    {
     "name": "stdout",
     "output_type": "stream",
     "text": [
      "79/79 [==============================] - 0s 2ms/step\n"
     ]
    }
   ],
   "source": [
    "y_pred = model.predict(x_test)\n",
    "\n",
    "\n",
    "r2 = r2_score(y_test, y_pred)\n",
    "mse = mean_squared_error(y_test, y_pred)\n",
    "mae = mean_absolute_error(y_test, y_pred)\n",
    "rmse = root_mean_squared_error(y_test, y_pred)\n",
    "\n"
   ]
  },
  {
   "cell_type": "code",
   "execution_count": 27,
   "id": "0debc123",
   "metadata": {},
   "outputs": [
    {
     "data": {
      "image/png": "[encoded data removed]",
      "text/plain": [
       "<Figure size 640x480 with 1 Axes>"
      ]
     },
     "metadata": {},
     "output_type": "display_data"
    }
   ],
   "source": [
    "plt.style.use('seaborn-v0_8-muted')\n",
    "\n",
    "linha = np.linspace(64, 81)\n",
    "# linha = np.linspace(.31, .315, 2500)\n",
    "\n",
    "\n",
    "plt.scatter(y_pred*norm, y_test*norm, s=5, alpha=.6, label=f'MAE = {mae:.3f}\\nR2 = {r2:.4f}\\nMSE = {mse:.3f}\\nRMSE = {rmse:.3f}')\n",
    "plt.plot(linha, linha, alpha=.5, c='red', ls='--')\n",
    "\n",
    "plt.legend()\n",
    "plt.savefig(\"imagens/metrics_h0_dense\")\n",
    "plt.show()"
   ]
  },
  {
   "cell_type": "code",
   "execution_count": 21,
   "id": "2bde29e4",
   "metadata": {},
   "outputs": [],
   "source": [
    "# forecasting \"real\" H(0)\n",
    "\n",
    "real = np.load('input/data_real80.npy')\n",
    "real = real[real[:, 0].argsort()]\n",
    "\n",
    "real = real.reshape(-1,80,2)"
   ]
  },
  {
   "cell_type": "code",
   "execution_count": 22,
   "id": "2b5e161d",
   "metadata": {},
   "outputs": [],
   "source": [
    "\n",
    "final_real = model.predict(real, verbose=0)"
   ]
  },
  {
   "cell_type": "code",
   "execution_count": 23,
   "id": "0e021783",
   "metadata": {},
   "outputs": [
    {
     "data": {
      "text/plain": [
       "array([[67.46298]], dtype=float32)"
      ]
     },
     "execution_count": 23,
     "metadata": {},
     "output_type": "execute_result"
    }
   ],
   "source": [
    "final_real*norm"
   ]
  },
  {
   "cell_type": "code",
   "execution_count": 35,
   "id": "6643ca2e",
   "metadata": {},
   "outputs": [
    {
     "data": {
      "image/png": "[encoded data removed]",
      "text/plain": [
       "<IPython.core.display.Image object>"
      ]
     },
     "execution_count": 35,
     "metadata": {},
     "output_type": "execute_result"
    }
   ],
   "source": [
    "keras.utils.plot_model(model, to_file='imagens/model_dense.png', show_shapes=False, show_layer_names=False)\n"
   ]
  }
 ],
 "metadata": {
  "kernelspec": {
   "display_name": "deep",
   "language": "python",
   "name": "python3"
  },
  "language_info": {
   "codemirror_mode": {
    "name": "ipython",
    "version": 3
   },
   "file_extension": ".py",
   "mimetype": "text/x-python",
   "name": "python",
   "nbconvert_exporter": "python",
   "pygments_lexer": "ipython3",
   "version": "3.9.20"
  }
 },
 "nbformat": 4,
 "nbformat_minor": 5
}
