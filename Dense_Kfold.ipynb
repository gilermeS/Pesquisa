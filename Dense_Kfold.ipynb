{
 "cells": [
  {
   "cell_type": "code",
   "execution_count": 1,
   "id": "818c9ed9-ec36-4440-b9a3-9645024dc8b0",
   "metadata": {
    "tags": []
   },
   "outputs": [],
   "source": [
    "from tensorflow import keras\n",
    "\n",
    "from tensorflow.keras import models \n",
    "from tensorflow.keras import layers \n",
    "from sklearn.model_selection import KFold\n",
    "from sklearn.metrics import r2_score, mean_absolute_error, mean_squared_error, root_mean_squared_error\n",
    "\n",
    "import matplotlib.pyplot as plt \n",
    "import pandas as pd \n",
    "import numpy as np "
   ]
  },
  {
   "cell_type": "code",
   "execution_count": null,
   "id": "a2b2b337",
   "metadata": {},
   "outputs": [],
   "source": []
  },
  {
   "cell_type": "code",
   "execution_count": 2,
   "id": "fd32c345",
   "metadata": {},
   "outputs": [
    {
     "name": "stdout",
     "output_type": "stream",
     "text": [
      "Status: 100.00 %\r"
     ]
    }
   ],
   "source": [
    "pd.set_option('mode.chained_assignment', None)\n",
    "\n",
    "# Preparing the dataset and creating the features and target arrays\n",
    "\n",
    "\n",
    "n_sims = 10000\n",
    "n_list = [i for i in range(n_sims)]\n",
    "\n",
    "\n",
    "h0s = []\n",
    "results = []\n",
    "\n",
    "\n",
    "start = 0\n",
    "end = 10000\n",
    "\n",
    "x = []\n",
    "y =[]\n",
    "\n",
    "for i in n_list[start:end]:\n",
    "\t\n",
    "\tdata = np.load(f'input/data_{i+1}.npy')\n",
    "\tx.append(data[:, :2])\n",
    "\ty.append(data[:, 2:][0][0])\n",
    "\tprint(f'Status: {((i+1)/end * 100):.2f} %', end='\\r')\n",
    "\n",
    "\n",
    "x = np.array(x)\n",
    "# x[:,:,0] /= x[:,:,0].max()\n",
    "\n",
    "y = np.array(y)\n",
    "\n",
    "\n",
    "\n",
    "kfold = KFold(n_splits=5, shuffle=True)\n"
   ]
  },
  {
   "cell_type": "code",
   "execution_count": 3,
   "id": "f4689cf2-864e-4aa4-b6f1-86921645d861",
   "metadata": {
    "collapsed": true,
    "jupyter": {
     "outputs_hidden": true
    },
    "tags": []
   },
   "outputs": [
    {
     "name": "stdout",
     "output_type": "stream",
     "text": [
      "\n",
      "------------------------------------------------------------------------\n",
      "\n",
      "\n",
      "Training for fold 1 ...\n",
      "\n",
      "63/63 [==============================] - 0s 1ms/step\n",
      "Score for fold 1: MAE = 0.101\n",
      "R2 = 0.9994\n",
      "MSE = 0.010\n",
      "RMSE = 0.101\n",
      "\n",
      "------------------------------------------------------------------------\n",
      "\n",
      "\n",
      "Training for fold 2 ...\n",
      "\n",
      "63/63 [==============================] - 0s 1ms/step\n",
      "Score for fold 2: MAE = 0.178\n",
      "R2 = 0.9982\n",
      "MSE = 0.034\n",
      "RMSE = 0.183\n",
      "\n",
      "------------------------------------------------------------------------\n",
      "\n",
      "\n",
      "Training for fold 3 ...\n",
      "\n",
      "63/63 [==============================] - 0s 2ms/step\n",
      "Score for fold 3: MAE = 0.065\n",
      "R2 = 0.9997\n",
      "MSE = 0.005\n",
      "RMSE = 0.073\n",
      "\n",
      "------------------------------------------------------------------------\n",
      "\n",
      "\n",
      "Training for fold 4 ...\n",
      "\n",
      "63/63 [==============================] - 0s 2ms/step\n",
      "Score for fold 4: MAE = 0.094\n",
      "R2 = 0.9993\n",
      "MSE = 0.013\n",
      "RMSE = 0.116\n",
      "\n",
      "------------------------------------------------------------------------\n",
      "\n",
      "\n",
      "Training for fold 5 ...\n",
      "\n",
      "63/63 [==============================] - 0s 1ms/step\n",
      "Score for fold 5: MAE = 0.030\n",
      "R2 = 0.9999\n",
      "MSE = 0.001\n",
      "RMSE = 0.038\n"
     ]
    }
   ],
   "source": [
    "# K-fold Cross Validation\n",
    "\n",
    "fold_no = 1\n",
    "\n",
    "mae_per_fold = []\n",
    "mse_per_fold = []\n",
    "r2_per_fold = []\n",
    "rmse_per_fold = []\n",
    "\n",
    "\n",
    "for train, test in kfold.split(x, y):\n",
    "\n",
    "    model = models.Sequential()\n",
    "    model.add(layers.Flatten())\n",
    "    model.add(layers.Dense(16))\n",
    "    model.add(layers.Dense(1))\n",
    "    model.compile(loss=keras.losses.MeanSquaredError(), optimizer='adam', metrics=keras.metrics.MeanAbsoluteError())\n",
    "\n",
    "\n",
    "    print('\\n------------------------------------------------------------------------\\n')\n",
    "    print(f'\\nTraining for fold {fold_no} ...\\n')\n",
    "\n",
    "\n",
    "    history = model.fit(x[train], y[train], epochs=25, batch_size=10, verbose=0)\n",
    "\n",
    "\n",
    "    # scores = model.evaluate(x[test], y[test], verbose=0)\n",
    "\n",
    "    y_pred = model.predict(x[test])\n",
    "\n",
    "\n",
    "    r2 = r2_score(y[test], y_pred)\n",
    "    mse = mean_squared_error(y[test], y_pred)\n",
    "    mae = mean_absolute_error(y[test], y_pred)\n",
    "    rmse = root_mean_squared_error(y[test], y_pred)\n",
    "\n",
    "\n",
    "    print(f'Score for fold {fold_no}: \\nMAE = {mae:.3f}\\nR2 = {r2:.4f}\\nMSE = {mse:.3f}\\nRMSE = {rmse:.3f}')\n",
    "\n",
    "\n",
    "\n",
    "    mae_per_fold.append(mae)\n",
    "    mse_per_fold.append(mse)\n",
    "    r2_per_fold.append(r2)\n",
    "    rmse_per_fold.append(rmse)\n",
    "\n",
    "    # Increase fold number\n",
    "    fold_no += 1"
   ]
  },
  {
   "cell_type": "code",
   "execution_count": 4,
   "id": "8d229ffd",
   "metadata": {},
   "outputs": [
    {
     "data": {
      "text/plain": [
       "0.09363305512926978"
      ]
     },
     "execution_count": 4,
     "metadata": {},
     "output_type": "execute_result"
    }
   ],
   "source": [
    "np.mean(mae_per_fold)\n"
   ]
  },
  {
   "cell_type": "code",
   "execution_count": 5,
   "id": "b5d4d1f3",
   "metadata": {},
   "outputs": [
    {
     "data": {
      "text/plain": [
       "0.012807394747141399"
      ]
     },
     "execution_count": 5,
     "metadata": {},
     "output_type": "execute_result"
    }
   ],
   "source": [
    "np.mean(mse_per_fold)\n"
   ]
  },
  {
   "cell_type": "code",
   "execution_count": 6,
   "id": "95a4d9d5",
   "metadata": {},
   "outputs": [
    {
     "data": {
      "text/plain": [
       "0.9993181997615675"
      ]
     },
     "execution_count": 6,
     "metadata": {},
     "output_type": "execute_result"
    }
   ],
   "source": [
    "np.mean(r2_per_fold)\n"
   ]
  },
  {
   "cell_type": "code",
   "execution_count": 7,
   "id": "93196110",
   "metadata": {},
   "outputs": [
    {
     "data": {
      "text/plain": [
       "0.10225208229042097"
      ]
     },
     "execution_count": 7,
     "metadata": {},
     "output_type": "execute_result"
    }
   ],
   "source": [
    "np.mean(rmse_per_fold)"
   ]
  }
 ],
 "metadata": {
  "kernelspec": {
   "display_name": "deep",
   "language": "python",
   "name": "python3"
  },
  "language_info": {
   "codemirror_mode": {
    "name": "ipython",
    "version": 3
   },
   "file_extension": ".py",
   "mimetype": "text/x-python",
   "name": "python",
   "nbconvert_exporter": "python",
   "pygments_lexer": "ipython3",
   "version": "3.9.20"
  }
 },
 "nbformat": 4,
 "nbformat_minor": 5
}
