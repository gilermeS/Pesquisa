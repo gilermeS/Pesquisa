{
 "cells": [
  {
   "cell_type": "code",
   "execution_count": 1,
   "id": "818c9ed9-ec36-4440-b9a3-9645024dc8b0",
   "metadata": {
    "tags": []
   },
   "outputs": [],
   "source": [
    "from tensorflow import keras\n",
    "\n",
    "from tensorflow.keras import models \n",
    "from tensorflow.keras import layers \n",
    "from sklearn.model_selection import train_test_split\n",
    "from sklearn.metrics import r2_score, mean_absolute_error, mean_squared_error, root_mean_squared_error\n",
    "\n",
    "import matplotlib.pyplot as plt \n",
    "import pandas as pd \n",
    "import numpy as np "
   ]
  },
  {
   "cell_type": "code",
   "execution_count": 252,
   "id": "f4689cf2-864e-4aa4-b6f1-86921645d861",
   "metadata": {
    "collapsed": true,
    "jupyter": {
     "outputs_hidden": true
    },
    "tags": []
   },
   "outputs": [
    {
     "name": "stdout",
     "output_type": "stream",
     "text": [
      "Status: 100.00 %\r"
     ]
    }
   ],
   "source": [
    "# Preparing the dataset and creating the features and target arrays\n",
    "\n",
    "\n",
    "pd.set_option('mode.chained_assignment', None)\n",
    "\n",
    "n_sims = 10000\n",
    "n_list = [i for i in range(n_sims)]\n",
    "\n",
    "\n",
    "h0s = []\n",
    "results = []\n",
    "\n",
    "\n",
    "start = 0\n",
    "end = 10000\n",
    "\n",
    "x = []\n",
    "y =[]\n",
    "\n",
    "for i in n_list[start:end]:\n",
    "\t\n",
    "\tdata = np.load(f'input/data_{i+1}.npy')\n",
    "\tx.append(data[:, :2])\n",
    "\ty.append(data[:, 2:][0][0])\n",
    "\tprint(f'Status: {((i+1)/end * 100):.2f} %', end='\\r')\n",
    "\n",
    "\n",
    "x = np.array(x)\n",
    "# x[:,:,0] /= x[:,:,0].max()\n",
    "\n",
    "y = np.array(y)\n",
    "\n",
    "\n",
    "x_train, x_test, y_train, y_test = train_test_split(x, y, test_size=.25)"
   ]
  },
  {
   "cell_type": "code",
   "execution_count": null,
   "id": "a6791775",
   "metadata": {},
   "outputs": [],
   "source": []
  },
  {
   "cell_type": "code",
   "execution_count": 253,
   "id": "6d262ed5",
   "metadata": {},
   "outputs": [
    {
     "name": "stdout",
     "output_type": "stream",
     "text": [
      "Epoch 1/20\n",
      "469/469 [==============================] - 3s 5ms/step - loss: 45.4260\n",
      "Epoch 2/20\n",
      "469/469 [==============================] - 2s 5ms/step - loss: 0.8532\n",
      "Epoch 3/20\n",
      "469/469 [==============================] - 2s 5ms/step - loss: 0.8365\n",
      "Epoch 4/20\n",
      "469/469 [==============================] - 2s 4ms/step - loss: 0.9209\n",
      "Epoch 5/20\n",
      "469/469 [==============================] - 2s 4ms/step - loss: 0.8368\n",
      "Epoch 6/20\n",
      "469/469 [==============================] - 2s 5ms/step - loss: 1.2145\n",
      "Epoch 7/20\n",
      "469/469 [==============================] - 2s 5ms/step - loss: 0.8426\n",
      "Epoch 8/20\n",
      "469/469 [==============================] - 2s 4ms/step - loss: 1.0013\n",
      "Epoch 9/20\n",
      "469/469 [==============================] - 2s 5ms/step - loss: 0.9269\n",
      "Epoch 10/20\n",
      "469/469 [==============================] - 2s 5ms/step - loss: 0.7788\n",
      "Epoch 11/20\n",
      "469/469 [==============================] - 3s 6ms/step - loss: 0.8429\n",
      "Epoch 12/20\n",
      "469/469 [==============================] - 3s 6ms/step - loss: 0.7788\n",
      "Epoch 13/20\n",
      "469/469 [==============================] - 3s 6ms/step - loss: 0.6842\n",
      "Epoch 14/20\n",
      "469/469 [==============================] - 3s 6ms/step - loss: 0.5856\n",
      "Epoch 15/20\n",
      "469/469 [==============================] - 3s 5ms/step - loss: 0.4309\n",
      "Epoch 16/20\n",
      "469/469 [==============================] - 3s 5ms/step - loss: 0.5877\n",
      "Epoch 17/20\n",
      "469/469 [==============================] - 3s 6ms/step - loss: 0.4891\n",
      "Epoch 18/20\n",
      "469/469 [==============================] - 3s 6ms/step - loss: 0.5155\n",
      "Epoch 19/20\n",
      "469/469 [==============================] - 3s 5ms/step - loss: 0.4165\n",
      "Epoch 20/20\n",
      "469/469 [==============================] - 3s 6ms/step - loss: 0.3663\n"
     ]
    },
    {
     "data": {
      "text/plain": [
       "<keras.callbacks.History at 0x23d0ec6a760>"
      ]
     },
     "execution_count": 253,
     "metadata": {},
     "output_type": "execute_result"
    }
   ],
   "source": [
    "# defining the model\n",
    "\n",
    "model = models.Sequential()\n",
    "\n",
    "\n",
    "model.add(layers.Conv1D(filters=64, kernel_size=3, activation='relu', input_shape=(80, 2)))\n",
    "model.add(layers.MaxPooling1D(pool_size=2))\n",
    "\n",
    "model.add(layers.Conv1D(filters=128, kernel_size=3, activation='relu', input_shape=(80, 2)))\n",
    "model.add(layers.MaxPooling1D(pool_size=2))\n",
    "\n",
    "\n",
    "model.add(layers.Flatten())\n",
    "\n",
    "\n",
    "model.add(layers.Dense(16))\n",
    "model.add(layers.Dense(16))\n",
    "\n",
    "model.add(layers.Dense(1))\n",
    "model.compile(loss=keras.losses.MeanSquaredError(), optimizer='adam')\n",
    "\n",
    "\n",
    "\n",
    "\n",
    "model.fit(x_train, y_train, epochs=20, batch_size=16, verbose=1)"
   ]
  },
  {
   "cell_type": "markdown",
   "id": "6597dbd5",
   "metadata": {},
   "source": [
    "Dummy variables just for visualization purposes"
   ]
  },
  {
   "cell_type": "code",
   "execution_count": 254,
   "id": "1267f5fb",
   "metadata": {},
   "outputs": [
    {
     "name": "stdout",
     "output_type": "stream",
     "text": [
      "79/79 [==============================] - 0s 3ms/step\n"
     ]
    }
   ],
   "source": [
    "y_pred = model.predict(x_test)\n",
    "\n",
    "\n",
    "r2 = r2_score(y_test, y_pred)\n",
    "mse = mean_squared_error(y_test, y_pred)\n",
    "mae = mean_absolute_error(y_test, y_pred)\n",
    "rmse = root_mean_squared_error(y_test, y_pred)\n",
    "\n"
   ]
  },
  {
   "cell_type": "code",
   "execution_count": 259,
   "id": "0debc123",
   "metadata": {},
   "outputs": [
    {
     "data": {
      "image/png": "[encoded data removed]",
      "text/plain": [
       "<Figure size 640x480 with 1 Axes>"
      ]
     },
     "metadata": {},
     "output_type": "display_data"
    }
   ],
   "source": [
    "linha = np.linspace(64, 81)\n",
    "# linha = np.linspace(.31, .315, 2500)\n",
    "\n",
    "\n",
    "plt.scatter(y_pred, y_test, s=5, label=f'MAE = {mae:.3f}\\nR2 = {r2:.4f}\\nMSE = {mse:.3f}\\nRMSE = {rmse:.3f}')\n",
    "plt.plot(linha, linha, alpha=.5, c='red')\n",
    "\n",
    "plt.legend()\n",
    "plt.savefig(\"imagens/metrics_h0_cnn\")\n",
    "plt.show()"
   ]
  },
  {
   "cell_type": "code",
   "execution_count": 256,
   "id": "2bde29e4",
   "metadata": {},
   "outputs": [],
   "source": [
    "# forecasting \"real\" H(0)\n",
    "\n",
    "real = np.load('input/data_real80.npy')\n",
    "real = real[real[:, 0].argsort()]\n",
    "\n",
    "real = real.reshape(-1,80,2)"
   ]
  },
  {
   "cell_type": "code",
   "execution_count": 257,
   "id": "2b5e161d",
   "metadata": {},
   "outputs": [],
   "source": [
    "\n",
    "final_real = model.predict(real, verbose=0)"
   ]
  },
  {
   "cell_type": "code",
   "execution_count": 258,
   "id": "0e021783",
   "metadata": {},
   "outputs": [
    {
     "data": {
      "text/plain": [
       "array([[67.746284]], dtype=float32)"
      ]
     },
     "execution_count": 258,
     "metadata": {},
     "output_type": "execute_result"
    }
   ],
   "source": [
    "final_real"
   ]
  }
 ],
 "metadata": {
  "kernelspec": {
   "display_name": "deep",
   "language": "python",
   "name": "python3"
  },
  "language_info": {
   "codemirror_mode": {
    "name": "ipython",
    "version": 3
   },
   "file_extension": ".py",
   "mimetype": "text/x-python",
   "name": "python",
   "nbconvert_exporter": "python",
   "pygments_lexer": "ipython3",
   "version": "3.9.20"
  }
 },
 "nbformat": 4,
 "nbformat_minor": 5
}
