{
 "cells": [
  {
   "cell_type": "code",
   "execution_count": 1,
   "id": "818c9ed9-ec36-4440-b9a3-9645024dc8b0",
   "metadata": {
    "tags": []
   },
   "outputs": [],
   "source": [
    "from tensorflow import keras\n",
    "\n",
    "from tensorflow.keras import models \n",
    "from tensorflow.keras import layers \n",
    "from sklearn.model_selection import KFold\n",
    "\n",
    "import matplotlib.pyplot as plt \n",
    "import pandas as pd \n",
    "import numpy as np "
   ]
  },
  {
   "cell_type": "code",
   "execution_count": 2,
   "id": "cf2c3345",
   "metadata": {},
   "outputs": [],
   "source": [
    "# h0 = 67,45\n",
    "# omega_m = 0.315"
   ]
  },
  {
   "cell_type": "code",
   "execution_count": 3,
   "id": "71ed49b5",
   "metadata": {},
   "outputs": [
    {
     "name": "stdout",
     "output_type": "stream",
     "text": [
      "Status: 100.00 %\r"
     ]
    }
   ],
   "source": [
    "pd.set_option('mode.chained_assignment', None)\n",
    "\n",
    "# Preparing the dataset and creating the features and target arrays\n",
    "\n",
    "\n",
    "n_sims = 10000\n",
    "n_list = [i for i in range(n_sims)]\n",
    "\n",
    "\n",
    "h0s = []\n",
    "results = []\n",
    "\n",
    "\n",
    "start = 0\n",
    "end = 10000\n",
    "\n",
    "x = []\n",
    "y =[]\n",
    "\n",
    "for i in n_list[start:end]:\n",
    "\t\n",
    "\tdata = np.load(f'input/data_{i+1}.npy')\n",
    "\tx.append(data[:, :2])\n",
    "\ty.append(data[:, 2:][0][1])\n",
    "\tprint(f'Status: {((i+1)/end * 100):.2f} %', end='\\r')\n",
    "\n",
    "\n",
    "x = np.array(x)\n",
    "# x[:,:,0] /= x[:,:,0].max()\n",
    "\n",
    "y = np.array(y)\n",
    "\n",
    "kfold = KFold(n_splits=5, shuffle=True)\n",
    "\n",
    "\n"
   ]
  },
  {
   "cell_type": "code",
   "execution_count": 7,
   "id": "f4689cf2-864e-4aa4-b6f1-86921645d861",
   "metadata": {
    "collapsed": true,
    "jupyter": {
     "outputs_hidden": true
    },
    "tags": []
   },
   "outputs": [
    {
     "name": "stdout",
     "output_type": "stream",
     "text": [
      "------------------------------------------------------------------------\n",
      "Training for fold 1 ...\n",
      "Score for fold 1: loss of 0.0002018156519625336; mean_absolute_error of 0.01170083787292242\n",
      "\n",
      "------------------------------------------------------------------------\n",
      "Training for fold 2 ...\n",
      "Score for fold 2: loss of 0.00015028746565803885; mean_absolute_error of 0.01052200235426426\n",
      "\n",
      "------------------------------------------------------------------------\n",
      "Training for fold 3 ...\n",
      "Score for fold 3: loss of 0.0005948090110905468; mean_absolute_error of 0.021293872967362404\n",
      "\n",
      "------------------------------------------------------------------------\n",
      "Training for fold 4 ...\n",
      "Score for fold 4: loss of 0.0001992949255509302; mean_absolute_error of 0.011704303324222565\n",
      "\n",
      "------------------------------------------------------------------------\n",
      "Training for fold 5 ...\n",
      "Score for fold 5: loss of 0.00014142888539936393; mean_absolute_error of 0.010237080045044422\n",
      "\n"
     ]
    }
   ],
   "source": [
    "# K-fold Cross Validation model evaluation\n",
    "fold_no = 1\n",
    "\n",
    "acc_per_fold = []\n",
    "loss_per_fold = []\n",
    "\n",
    "\n",
    "for train, test in kfold.split(x, y):\n",
    "\n",
    "    model = models.Sequential()\n",
    "    model.add(layers.SimpleRNN(16, input_shape=(80,2)))\n",
    "    model.add(layers.Dense(8))\n",
    "    model.add(layers.Dense(1))\n",
    "    model.compile(loss=keras.losses.MeanSquaredError(), optimizer='adam', metrics=keras.metrics.MeanAbsoluteError())\n",
    "\n",
    "\n",
    "    print('------------------------------------------------------------------------')\n",
    "    print(f'Training for fold {fold_no} ...')\n",
    "\n",
    "\n",
    "    history = model.fit(x[train], y[train], epochs=2, batch_size=10, verbose=0)\n",
    "\n",
    "\n",
    "    scores = model.evaluate(x[test], y[test], verbose=0)\n",
    "    print(f'Score for fold {fold_no}: {model.metrics_names[0]} of {scores[0]}; {model.metrics_names[1]} of {scores[1]}\\n')\n",
    "    acc_per_fold.append(scores[1])\n",
    "    loss_per_fold.append(scores[0])\n",
    "\n",
    "    # Increase fold number\n",
    "    fold_no += 1"
   ]
  },
  {
   "cell_type": "code",
   "execution_count": 8,
   "id": "4334c154",
   "metadata": {},
   "outputs": [
    {
     "data": {
      "text/plain": [
       "0.0002575271879322827"
      ]
     },
     "execution_count": 8,
     "metadata": {},
     "output_type": "execute_result"
    }
   ],
   "source": [
    "np.mean(loss_per_fold)"
   ]
  },
  {
   "cell_type": "code",
   "execution_count": 9,
   "id": "5bc23c90",
   "metadata": {},
   "outputs": [
    {
     "data": {
      "text/plain": [
       "0.013091619312763213"
      ]
     },
     "execution_count": 9,
     "metadata": {},
     "output_type": "execute_result"
    }
   ],
   "source": [
    "np.mean(acc_per_fold)"
   ]
  }
 ],
 "metadata": {
  "kernelspec": {
   "display_name": "deep",
   "language": "python",
   "name": "python3"
  },
  "language_info": {
   "codemirror_mode": {
    "name": "ipython",
    "version": 3
   },
   "file_extension": ".py",
   "mimetype": "text/x-python",
   "name": "python",
   "nbconvert_exporter": "python",
   "pygments_lexer": "ipython3",
   "version": "3.9.20"
  }
 },
 "nbformat": 4,
 "nbformat_minor": 5
}
